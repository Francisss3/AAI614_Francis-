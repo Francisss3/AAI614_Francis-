{
  "nbformat": 4,
  "nbformat_minor": 0,
  "metadata": {
    "colab": {
      "provenance": [],
      "machine_shape": "hm",
      "gpuType": "A100",
      "authorship_tag": "ABX9TyODfpKkBdPUZzkyYS5UjK7L",
      "include_colab_link": true
    },
    "kernelspec": {
      "name": "python3",
      "display_name": "Python 3"
    },
    "language_info": {
      "name": "python"
    },
    "accelerator": "GPU"
  },
  "cells": [
    {
      "cell_type": "markdown",
      "metadata": {
        "id": "view-in-github",
        "colab_type": "text"
      },
      "source": [
        "<a href=\"https://colab.research.google.com/github/Francisss3/AAI614_Francis-/blob/main/Atlas_Lab.ipynb\" target=\"_parent\"><img src=\"https://colab.research.google.com/assets/colab-badge.svg\" alt=\"Open In Colab\"/></a>"
      ]
    },
    {
      "cell_type": "code",
      "execution_count": 1,
      "metadata": {
        "colab": {
          "base_uri": "https://localhost:8080/"
        },
        "id": "ZDMeXVPSPzPT",
        "outputId": "871055bd-cd64-4b2d-f23e-3bff55af445e"
      },
      "outputs": [
        {
          "output_type": "stream",
          "name": "stdout",
          "text": [
            "Collecting pymongo[srv]\n",
            "  Downloading pymongo-4.10.1-cp310-cp310-manylinux_2_17_x86_64.manylinux2014_x86_64.whl.metadata (22 kB)\n",
            "\u001b[33mWARNING: pymongo 4.10.1 does not provide the extra 'srv'\u001b[0m\u001b[33m\n",
            "\u001b[0mCollecting dnspython<3.0.0,>=1.16.0 (from pymongo[srv])\n",
            "  Downloading dnspython-2.7.0-py3-none-any.whl.metadata (5.8 kB)\n",
            "Downloading dnspython-2.7.0-py3-none-any.whl (313 kB)\n",
            "\u001b[2K   \u001b[90m━━━━━━━━━━━━━━━━━━━━━━━━━━━━━━━━━━━━━━━━\u001b[0m \u001b[32m313.6/313.6 kB\u001b[0m \u001b[31m22.6 MB/s\u001b[0m eta \u001b[36m0:00:00\u001b[0m\n",
            "\u001b[?25hDownloading pymongo-4.10.1-cp310-cp310-manylinux_2_17_x86_64.manylinux2014_x86_64.whl (1.4 MB)\n",
            "\u001b[2K   \u001b[90m━━━━━━━━━━━━━━━━━━━━━━━━━━━━━━━━━━━━━━━━\u001b[0m \u001b[32m1.4/1.4 MB\u001b[0m \u001b[31m58.7 MB/s\u001b[0m eta \u001b[36m0:00:00\u001b[0m\n",
            "\u001b[?25hInstalling collected packages: dnspython, pymongo\n",
            "Successfully installed dnspython-2.7.0 pymongo-4.10.1\n"
          ]
        }
      ],
      "source": [
        "!pip install pymongo[srv]\n"
      ]
    },
    {
      "cell_type": "code",
      "source": [
        "from pymongo import MongoClient\n",
        "\n",
        "# Connection string with your password\n",
        "connection_string = \"mongodb+srv://<username>:<password>@cluster0.pvf4m.mongodb.net/?retryWrites=true&w=majority\"\n",
        "\n",
        "\n",
        "# Connect to MongoDB Atlas\n",
        "client = MongoClient(connection_string)\n",
        "\n",
        "# Access the database and collection\n",
        "db = client[\"test_database\"]\n",
        "collection = db[\"test_collection\"]\n",
        "\n",
        "print(\"Connected to MongoDB Atlas!\")\n"
      ],
      "metadata": {
        "colab": {
          "base_uri": "https://localhost:8080/"
        },
        "id": "9T0MnV09SazI",
        "outputId": "db8880eb-a12a-4230-ddc6-d8e35f8c08b4"
      },
      "execution_count": 5,
      "outputs": [
        {
          "output_type": "stream",
          "name": "stdout",
          "text": [
            "Connected to MongoDB Atlas!\n"
          ]
        }
      ]
    },
    {
      "cell_type": "code",
      "source": [
        "new_movie = {\n",
        "    \"title\": \"The Holiday\",\n",
        "    \"year\": 2006,\n",
        "    \"genres\": [\"Romance\", \"Comedy\", \"Drama\"],\n",
        "    \"cast\": [\"Cameron Diaz\", \"Kate Winslet\", \"Jude Law\", \"Jack Black\"],\n",
        "    \"runtime\": 136,\n",
        "    \"plot\": \"Two women troubled with guy problems swap homes in each other's countries, where they each meet a local guy and fall in love.\",\n",
        "    \"languages\": [\"English\"],\n",
        "    \"released\": \"2006-12-08T00:00:00.000Z\",\n",
        "    \"ratings\": {\n",
        "        \"IMDB\": 6.9,\n",
        "        \"RottenTomatoes\": 80\n",
        "    },\n",
        "    \"director\": \"Nancy Meyers\"\n",
        "}\n",
        "\n",
        "result = collection.insert_one(new_movie)\n",
        "print(f\"Inserted document with ID: {result.inserted_id}\")\n"
      ],
      "metadata": {
        "colab": {
          "base_uri": "https://localhost:8080/"
        },
        "id": "IvgMSWZBSfyD",
        "outputId": "bb806589-2584-4383-82b4-855930721236"
      },
      "execution_count": 6,
      "outputs": [
        {
          "output_type": "stream",
          "name": "stdout",
          "text": [
            "Inserted document with ID: 6765b4bf3bdb5e0a01f78f33\n"
          ]
        }
      ]
    },
    {
      "cell_type": "code",
      "source": [
        "holiday_movie = collection.find_one({\"title\": \"The Holiday\"})\n",
        "print(\"Retrieved Movie:\", holiday_movie)\n"
      ],
      "metadata": {
        "colab": {
          "base_uri": "https://localhost:8080/"
        },
        "id": "ElFnrchRSjgs",
        "outputId": "00dd2cbe-83f7-41a7-925c-30bad7b6137a"
      },
      "execution_count": 7,
      "outputs": [
        {
          "output_type": "stream",
          "name": "stdout",
          "text": [
            "Retrieved Movie: {'_id': ObjectId('6765b4bf3bdb5e0a01f78f33'), 'title': 'The Holiday', 'year': 2006, 'genres': ['Romance', 'Comedy', 'Drama'], 'cast': ['Cameron Diaz', 'Kate Winslet', 'Jude Law', 'Jack Black'], 'runtime': 136, 'plot': \"Two women troubled with guy problems swap homes in each other's countries, where they each meet a local guy and fall in love.\", 'languages': ['English'], 'released': '2006-12-08T00:00:00.000Z', 'ratings': {'IMDB': 6.9, 'RottenTomatoes': 80}, 'director': 'Nancy Meyers'}\n"
          ]
        }
      ]
    }
  ]
}
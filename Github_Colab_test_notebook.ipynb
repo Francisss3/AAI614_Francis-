{
  "nbformat": 4,
  "nbformat_minor": 0,
  "metadata": {
    "colab": {
      "provenance": []
    },
    "kernelspec": {
      "name": "python3",
      "display_name": "Python 3"
    },
    "language_info": {
      "name": "python"
    }
  },
  "cells": [
    {
      "cell_type": "code",
      "execution_count": 1,
      "metadata": {
        "colab": {
          "base_uri": "https://localhost:8080/"
        },
        "id": "-xFlIKX_YuUA",
        "outputId": "ea6ee1a2-6d48-4a9e-e71a-5db94b7a8df3"
      },
      "outputs": [
        {
          "output_type": "stream",
          "name": "stdout",
          "text": [
            "Hello, GitHub from Colab!\n"
          ]
        }
      ],
      "source": [
        "print(\"Hello, GitHub from Colab!\")\n"
      ]
    },
    {
      "cell_type": "markdown",
      "source": [
        "[link to github repository] https://github.com/Francisss3/AAI614_Francis-"
      ],
      "metadata": {
        "id": "HYSrdYdVZDp3"
      }
    },
    {
      "cell_type": "code",
      "source": [],
      "metadata": {
        "id": "2FCu7Cz-Y3tw"
      },
      "execution_count": null,
      "outputs": []
    }
  ]
}
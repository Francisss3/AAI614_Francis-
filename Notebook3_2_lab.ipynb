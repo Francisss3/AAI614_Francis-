{
  "cells": [
    {
      "cell_type": "markdown",
      "metadata": {
        "id": "view-in-github",
        "colab_type": "text"
      },
      "source": [
        "<a href=\"https://colab.research.google.com/github/Francisss3/AAI614_Francis-/blob/main/Notebook3_2_lab.ipynb\" target=\"_parent\"><img src=\"https://colab.research.google.com/assets/colab-badge.svg\" alt=\"Open In Colab\"/></a>"
      ]
    },
    {
      "cell_type": "markdown",
      "id": "61ea5f6e-6458-4301-85d3-76062b1922a6",
      "metadata": {
        "id": "61ea5f6e-6458-4301-85d3-76062b1922a6"
      },
      "source": [
        "# AAI614: Data Science & its Applications\n",
        "\n",
        "*Notebook 3.2: Practice with Data Cleaning*\n",
        "\n",
        "<a href=\"https://colab.research.google.com/github/harmanani/AAI614/blob/main/Week%203/Notebook3.2.ipynb\" target=\"_parent\"><img src=\"https://colab.research.google.com/assets/colab-badge.svg\" alt=\"Open In Colab\"/></a>"
      ]
    },
    {
      "cell_type": "code",
      "execution_count": 1,
      "id": "c94dc240",
      "metadata": {
        "id": "c94dc240"
      },
      "outputs": [],
      "source": [
        "import pandas as pd\n",
        "import ssl\n",
        "\n",
        "ssl._create_default_https_context = ssl._create_unverified_context"
      ]
    },
    {
      "cell_type": "markdown",
      "id": "eb53db49",
      "metadata": {
        "id": "eb53db49"
      },
      "source": [
        "Exercise I. Load the following datafile from GitHub"
      ]
    },
    {
      "cell_type": "code",
      "execution_count": 2,
      "id": "dfd04802",
      "metadata": {
        "id": "dfd04802"
      },
      "outputs": [],
      "source": [
        "grads = pd.read_csv(\"https://raw.githubusercontent.com/harmanani/AAI614/main/Week%203/grads.csv\")"
      ]
    },
    {
      "cell_type": "code",
      "execution_count": 3,
      "id": "674715ec",
      "metadata": {
        "colab": {
          "base_uri": "https://localhost:8080/",
          "height": 204
        },
        "id": "674715ec",
        "outputId": "25766b32-9d90-40f9-85ad-d499ddba1c75"
      },
      "outputs": [
        {
          "output_type": "execute_result",
          "data": {
            "text/plain": [
              "  Student Name  Avg Hours Studies per Week  GPA    University  \\\n",
              "0       George                          20  NaN           NYU   \n",
              "1        Jerry                          35  3.5      Columbia   \n",
              "2       Elaine                          55  4.0      Columbia   \n",
              "3        Cosmo                           5  2.0  City College   \n",
              "4       Newman                          25  2.8  City College   \n",
              "\n",
              "   Sense of Humour (0-5) Salary  \n",
              "0                    3.0   $40k  \n",
              "1                    5.0   $80k  \n",
              "2                    4.2   $60k  \n",
              "3                    2.0   $25k  \n",
              "4                    0.0   $50k  "
            ],
            "text/html": [
              "\n",
              "  <div id=\"df-466a0df4-5416-4aa8-abaa-09f210d20a84\" class=\"colab-df-container\">\n",
              "    <div>\n",
              "<style scoped>\n",
              "    .dataframe tbody tr th:only-of-type {\n",
              "        vertical-align: middle;\n",
              "    }\n",
              "\n",
              "    .dataframe tbody tr th {\n",
              "        vertical-align: top;\n",
              "    }\n",
              "\n",
              "    .dataframe thead th {\n",
              "        text-align: right;\n",
              "    }\n",
              "</style>\n",
              "<table border=\"1\" class=\"dataframe\">\n",
              "  <thead>\n",
              "    <tr style=\"text-align: right;\">\n",
              "      <th></th>\n",
              "      <th>Student Name</th>\n",
              "      <th>Avg Hours Studies per Week</th>\n",
              "      <th>GPA</th>\n",
              "      <th>University</th>\n",
              "      <th>Sense of Humour (0-5)</th>\n",
              "      <th>Salary</th>\n",
              "    </tr>\n",
              "  </thead>\n",
              "  <tbody>\n",
              "    <tr>\n",
              "      <th>0</th>\n",
              "      <td>George</td>\n",
              "      <td>20</td>\n",
              "      <td>NaN</td>\n",
              "      <td>NYU</td>\n",
              "      <td>3.0</td>\n",
              "      <td>$40k</td>\n",
              "    </tr>\n",
              "    <tr>\n",
              "      <th>1</th>\n",
              "      <td>Jerry</td>\n",
              "      <td>35</td>\n",
              "      <td>3.5</td>\n",
              "      <td>Columbia</td>\n",
              "      <td>5.0</td>\n",
              "      <td>$80k</td>\n",
              "    </tr>\n",
              "    <tr>\n",
              "      <th>2</th>\n",
              "      <td>Elaine</td>\n",
              "      <td>55</td>\n",
              "      <td>4.0</td>\n",
              "      <td>Columbia</td>\n",
              "      <td>4.2</td>\n",
              "      <td>$60k</td>\n",
              "    </tr>\n",
              "    <tr>\n",
              "      <th>3</th>\n",
              "      <td>Cosmo</td>\n",
              "      <td>5</td>\n",
              "      <td>2.0</td>\n",
              "      <td>City College</td>\n",
              "      <td>2.0</td>\n",
              "      <td>$25k</td>\n",
              "    </tr>\n",
              "    <tr>\n",
              "      <th>4</th>\n",
              "      <td>Newman</td>\n",
              "      <td>25</td>\n",
              "      <td>2.8</td>\n",
              "      <td>City College</td>\n",
              "      <td>0.0</td>\n",
              "      <td>$50k</td>\n",
              "    </tr>\n",
              "  </tbody>\n",
              "</table>\n",
              "</div>\n",
              "    <div class=\"colab-df-buttons\">\n",
              "\n",
              "  <div class=\"colab-df-container\">\n",
              "    <button class=\"colab-df-convert\" onclick=\"convertToInteractive('df-466a0df4-5416-4aa8-abaa-09f210d20a84')\"\n",
              "            title=\"Convert this dataframe to an interactive table.\"\n",
              "            style=\"display:none;\">\n",
              "\n",
              "  <svg xmlns=\"http://www.w3.org/2000/svg\" height=\"24px\" viewBox=\"0 -960 960 960\">\n",
              "    <path d=\"M120-120v-720h720v720H120Zm60-500h600v-160H180v160Zm220 220h160v-160H400v160Zm0 220h160v-160H400v160ZM180-400h160v-160H180v160Zm440 0h160v-160H620v160ZM180-180h160v-160H180v160Zm440 0h160v-160H620v160Z\"/>\n",
              "  </svg>\n",
              "    </button>\n",
              "\n",
              "  <style>\n",
              "    .colab-df-container {\n",
              "      display:flex;\n",
              "      gap: 12px;\n",
              "    }\n",
              "\n",
              "    .colab-df-convert {\n",
              "      background-color: #E8F0FE;\n",
              "      border: none;\n",
              "      border-radius: 50%;\n",
              "      cursor: pointer;\n",
              "      display: none;\n",
              "      fill: #1967D2;\n",
              "      height: 32px;\n",
              "      padding: 0 0 0 0;\n",
              "      width: 32px;\n",
              "    }\n",
              "\n",
              "    .colab-df-convert:hover {\n",
              "      background-color: #E2EBFA;\n",
              "      box-shadow: 0px 1px 2px rgba(60, 64, 67, 0.3), 0px 1px 3px 1px rgba(60, 64, 67, 0.15);\n",
              "      fill: #174EA6;\n",
              "    }\n",
              "\n",
              "    .colab-df-buttons div {\n",
              "      margin-bottom: 4px;\n",
              "    }\n",
              "\n",
              "    [theme=dark] .colab-df-convert {\n",
              "      background-color: #3B4455;\n",
              "      fill: #D2E3FC;\n",
              "    }\n",
              "\n",
              "    [theme=dark] .colab-df-convert:hover {\n",
              "      background-color: #434B5C;\n",
              "      box-shadow: 0px 1px 3px 1px rgba(0, 0, 0, 0.15);\n",
              "      filter: drop-shadow(0px 1px 2px rgba(0, 0, 0, 0.3));\n",
              "      fill: #FFFFFF;\n",
              "    }\n",
              "  </style>\n",
              "\n",
              "    <script>\n",
              "      const buttonEl =\n",
              "        document.querySelector('#df-466a0df4-5416-4aa8-abaa-09f210d20a84 button.colab-df-convert');\n",
              "      buttonEl.style.display =\n",
              "        google.colab.kernel.accessAllowed ? 'block' : 'none';\n",
              "\n",
              "      async function convertToInteractive(key) {\n",
              "        const element = document.querySelector('#df-466a0df4-5416-4aa8-abaa-09f210d20a84');\n",
              "        const dataTable =\n",
              "          await google.colab.kernel.invokeFunction('convertToInteractive',\n",
              "                                                    [key], {});\n",
              "        if (!dataTable) return;\n",
              "\n",
              "        const docLinkHtml = 'Like what you see? Visit the ' +\n",
              "          '<a target=\"_blank\" href=https://colab.research.google.com/notebooks/data_table.ipynb>data table notebook</a>'\n",
              "          + ' to learn more about interactive tables.';\n",
              "        element.innerHTML = '';\n",
              "        dataTable['output_type'] = 'display_data';\n",
              "        await google.colab.output.renderOutput(dataTable, element);\n",
              "        const docLink = document.createElement('div');\n",
              "        docLink.innerHTML = docLinkHtml;\n",
              "        element.appendChild(docLink);\n",
              "      }\n",
              "    </script>\n",
              "  </div>\n",
              "\n",
              "\n",
              "<div id=\"df-d24251f9-442f-4daf-bba9-2c48e141e9d5\">\n",
              "  <button class=\"colab-df-quickchart\" onclick=\"quickchart('df-d24251f9-442f-4daf-bba9-2c48e141e9d5')\"\n",
              "            title=\"Suggest charts\"\n",
              "            style=\"display:none;\">\n",
              "\n",
              "<svg xmlns=\"http://www.w3.org/2000/svg\" height=\"24px\"viewBox=\"0 0 24 24\"\n",
              "     width=\"24px\">\n",
              "    <g>\n",
              "        <path d=\"M19 3H5c-1.1 0-2 .9-2 2v14c0 1.1.9 2 2 2h14c1.1 0 2-.9 2-2V5c0-1.1-.9-2-2-2zM9 17H7v-7h2v7zm4 0h-2V7h2v10zm4 0h-2v-4h2v4z\"/>\n",
              "    </g>\n",
              "</svg>\n",
              "  </button>\n",
              "\n",
              "<style>\n",
              "  .colab-df-quickchart {\n",
              "      --bg-color: #E8F0FE;\n",
              "      --fill-color: #1967D2;\n",
              "      --hover-bg-color: #E2EBFA;\n",
              "      --hover-fill-color: #174EA6;\n",
              "      --disabled-fill-color: #AAA;\n",
              "      --disabled-bg-color: #DDD;\n",
              "  }\n",
              "\n",
              "  [theme=dark] .colab-df-quickchart {\n",
              "      --bg-color: #3B4455;\n",
              "      --fill-color: #D2E3FC;\n",
              "      --hover-bg-color: #434B5C;\n",
              "      --hover-fill-color: #FFFFFF;\n",
              "      --disabled-bg-color: #3B4455;\n",
              "      --disabled-fill-color: #666;\n",
              "  }\n",
              "\n",
              "  .colab-df-quickchart {\n",
              "    background-color: var(--bg-color);\n",
              "    border: none;\n",
              "    border-radius: 50%;\n",
              "    cursor: pointer;\n",
              "    display: none;\n",
              "    fill: var(--fill-color);\n",
              "    height: 32px;\n",
              "    padding: 0;\n",
              "    width: 32px;\n",
              "  }\n",
              "\n",
              "  .colab-df-quickchart:hover {\n",
              "    background-color: var(--hover-bg-color);\n",
              "    box-shadow: 0 1px 2px rgba(60, 64, 67, 0.3), 0 1px 3px 1px rgba(60, 64, 67, 0.15);\n",
              "    fill: var(--button-hover-fill-color);\n",
              "  }\n",
              "\n",
              "  .colab-df-quickchart-complete:disabled,\n",
              "  .colab-df-quickchart-complete:disabled:hover {\n",
              "    background-color: var(--disabled-bg-color);\n",
              "    fill: var(--disabled-fill-color);\n",
              "    box-shadow: none;\n",
              "  }\n",
              "\n",
              "  .colab-df-spinner {\n",
              "    border: 2px solid var(--fill-color);\n",
              "    border-color: transparent;\n",
              "    border-bottom-color: var(--fill-color);\n",
              "    animation:\n",
              "      spin 1s steps(1) infinite;\n",
              "  }\n",
              "\n",
              "  @keyframes spin {\n",
              "    0% {\n",
              "      border-color: transparent;\n",
              "      border-bottom-color: var(--fill-color);\n",
              "      border-left-color: var(--fill-color);\n",
              "    }\n",
              "    20% {\n",
              "      border-color: transparent;\n",
              "      border-left-color: var(--fill-color);\n",
              "      border-top-color: var(--fill-color);\n",
              "    }\n",
              "    30% {\n",
              "      border-color: transparent;\n",
              "      border-left-color: var(--fill-color);\n",
              "      border-top-color: var(--fill-color);\n",
              "      border-right-color: var(--fill-color);\n",
              "    }\n",
              "    40% {\n",
              "      border-color: transparent;\n",
              "      border-right-color: var(--fill-color);\n",
              "      border-top-color: var(--fill-color);\n",
              "    }\n",
              "    60% {\n",
              "      border-color: transparent;\n",
              "      border-right-color: var(--fill-color);\n",
              "    }\n",
              "    80% {\n",
              "      border-color: transparent;\n",
              "      border-right-color: var(--fill-color);\n",
              "      border-bottom-color: var(--fill-color);\n",
              "    }\n",
              "    90% {\n",
              "      border-color: transparent;\n",
              "      border-bottom-color: var(--fill-color);\n",
              "    }\n",
              "  }\n",
              "</style>\n",
              "\n",
              "  <script>\n",
              "    async function quickchart(key) {\n",
              "      const quickchartButtonEl =\n",
              "        document.querySelector('#' + key + ' button');\n",
              "      quickchartButtonEl.disabled = true;  // To prevent multiple clicks.\n",
              "      quickchartButtonEl.classList.add('colab-df-spinner');\n",
              "      try {\n",
              "        const charts = await google.colab.kernel.invokeFunction(\n",
              "            'suggestCharts', [key], {});\n",
              "      } catch (error) {\n",
              "        console.error('Error during call to suggestCharts:', error);\n",
              "      }\n",
              "      quickchartButtonEl.classList.remove('colab-df-spinner');\n",
              "      quickchartButtonEl.classList.add('colab-df-quickchart-complete');\n",
              "    }\n",
              "    (() => {\n",
              "      let quickchartButtonEl =\n",
              "        document.querySelector('#df-d24251f9-442f-4daf-bba9-2c48e141e9d5 button');\n",
              "      quickchartButtonEl.style.display =\n",
              "        google.colab.kernel.accessAllowed ? 'block' : 'none';\n",
              "    })();\n",
              "  </script>\n",
              "</div>\n",
              "\n",
              "    </div>\n",
              "  </div>\n"
            ],
            "application/vnd.google.colaboratory.intrinsic+json": {
              "type": "dataframe",
              "variable_name": "grads",
              "summary": "{\n  \"name\": \"grads\",\n  \"rows\": 9,\n  \"fields\": [\n    {\n      \"column\": \"Student Name\",\n      \"properties\": {\n        \"dtype\": \"string\",\n        \"num_unique_values\": 9,\n        \"samples\": [\n          \"Leo\",\n          \"Jerry\",\n          \"Frank\"\n        ],\n        \"semantic_type\": \"\",\n        \"description\": \"\"\n      }\n    },\n    {\n      \"column\": \"Avg Hours Studies per Week\",\n      \"properties\": {\n        \"dtype\": \"number\",\n        \"std\": 28,\n        \"min\": 5,\n        \"max\": 100,\n        \"num_unique_values\": 8,\n        \"samples\": [\n          35,\n          100,\n          20\n        ],\n        \"semantic_type\": \"\",\n        \"description\": \"\"\n      }\n    },\n    {\n      \"column\": \"GPA\",\n      \"properties\": {\n        \"dtype\": \"number\",\n        \"std\": 0.7160157619972982,\n        \"min\": 2.0,\n        \"max\": 4.0,\n        \"num_unique_values\": 7,\n        \"samples\": [\n          3.5,\n          4.0,\n          3.2\n        ],\n        \"semantic_type\": \"\",\n        \"description\": \"\"\n      }\n    },\n    {\n      \"column\": \"University\",\n      \"properties\": {\n        \"dtype\": \"string\",\n        \"num_unique_values\": 6,\n        \"samples\": [\n          \" NYU\",\n          \"Columbia\",\n          \"Festivus Uni \"\n        ],\n        \"semantic_type\": \"\",\n        \"description\": \"\"\n      }\n    },\n    {\n      \"column\": \"Sense of Humour (0-5)\",\n      \"properties\": {\n        \"dtype\": \"number\",\n        \"std\": 1.932799597918596,\n        \"min\": 0.0,\n        \"max\": 5.0,\n        \"num_unique_values\": 6,\n        \"samples\": [\n          3.0,\n          5.0,\n          1.7\n        ],\n        \"semantic_type\": \"\",\n        \"description\": \"\"\n      }\n    },\n    {\n      \"column\": \"Salary\",\n      \"properties\": {\n        \"dtype\": \"string\",\n        \"num_unique_values\": 9,\n        \"samples\": [\n          \" $35k\",\n          \"$80k\",\n          \"$40k\"\n        ],\n        \"semantic_type\": \"\",\n        \"description\": \"\"\n      }\n    }\n  ]\n}"
            }
          },
          "metadata": {},
          "execution_count": 3
        }
      ],
      "source": [
        "grads.head()\n"
      ]
    },
    {
      "cell_type": "code",
      "execution_count": null,
      "id": "7330b38a",
      "metadata": {
        "id": "7330b38a"
      },
      "outputs": [],
      "source": []
    },
    {
      "cell_type": "markdown",
      "id": "9283d451",
      "metadata": {
        "id": "9283d451"
      },
      "source": [
        "Question 1: Identify all the outliers in the above data.  Justify your answers using objective measures."
      ]
    },
    {
      "cell_type": "code",
      "execution_count": 4,
      "id": "e0cd6711",
      "metadata": {
        "colab": {
          "base_uri": "https://localhost:8080/"
        },
        "id": "e0cd6711",
        "outputId": "c55efc39-844b-46de-be3c-af509bb9e76e"
      },
      "outputs": [
        {
          "output_type": "stream",
          "name": "stdout",
          "text": [
            "\n",
            "Outliers in 'Avg Hours Studies per Week':\n",
            "  Student Name  Avg Hours Studies per Week\n",
            "6      Estelle                         100\n",
            "Lower Bound: -25.0, Upper Bound: 95.0\n",
            "\n",
            "Outliers in 'GPA':\n",
            "Empty DataFrame\n",
            "Columns: [Student Name, GPA]\n",
            "Index: []\n",
            "Lower Bound: 1.3124999999999993, Upper Bound: 5.0125\n",
            "\n",
            "Outliers in 'Sense of Humour (0-5)':\n",
            "Empty DataFrame\n",
            "Columns: [Student Name, Sense of Humour (0-5)]\n",
            "Index: []\n",
            "Lower Bound: -3.275, Upper Bound: 7.725\n",
            "\n",
            "Outliers in 'Salary':\n",
            "Empty DataFrame\n",
            "Columns: [Student Name, Salary]\n",
            "Index: []\n",
            "Lower Bound: -2500.0, Upper Bound: 97500.0\n"
          ]
        }
      ],
      "source": [
        "import pandas as pd\n",
        "\n",
        "# Convert Salary to numeric by removing the \"$\" and \"k\" characters\n",
        "grads['Salary'] = grads['Salary'].replace({'\\$': '', 'k': ''}, regex=True).astype(float) * 1000\n",
        "\n",
        "# Define a function to identify outliers using the IQR method\n",
        "def find_outliers_iqr(data, column):\n",
        "    Q1 = data[column].quantile(0.25)\n",
        "    Q3 = data[column].quantile(0.75)\n",
        "    IQR = Q3 - Q1\n",
        "    lower_bound = Q1 - 1.5 * IQR\n",
        "    upper_bound = Q3 + 1.5 * IQR\n",
        "    outliers = data[(data[column] < lower_bound) | (data[column] > upper_bound)]\n",
        "    return outliers, lower_bound, upper_bound\n",
        "\n",
        "# Analyze potential outliers for numeric columns\n",
        "columns_to_check = ['Avg Hours Studies per Week', 'GPA', 'Sense of Humour (0-5)', 'Salary']\n",
        "for column in columns_to_check:\n",
        "    outliers, lower, upper = find_outliers_iqr(grads, column)\n",
        "    print(f\"\\nOutliers in '{column}':\\n{outliers[['Student Name', column]]}\")\n",
        "    print(f\"Lower Bound: {lower}, Upper Bound: {upper}\")\n"
      ]
    },
    {
      "cell_type": "code",
      "source": [
        "# Using the IQR method, I identified outliers in the dataset. The only outlier detected\n",
        "# was in the column 'Avg Hours Studies per Week', where Estelle reported 100 hours,\n",
        "# which is above the upper bound of 95.0. This value is likely an anomaly or an extreme case.\n",
        "# No outliers were found in the columns 'GPA', 'Sense of Humour (0-5)', or 'Salary',\n",
        "# as all their values fell within their respective bounds. These findings indicate that\n",
        "# apart from Estelle's study hours, the dataset does not contain extreme or unusual values.\n"
      ],
      "metadata": {
        "id": "pXytBL2mfGvT"
      },
      "id": "pXytBL2mfGvT",
      "execution_count": 5,
      "outputs": []
    },
    {
      "cell_type": "markdown",
      "id": "0bb699a0",
      "metadata": {
        "id": "0bb699a0"
      },
      "source": [
        "Question 2: There are various data that are missing.  Fill-in the missing data or delete the rows/columns that you think you should delete.  Justify your answer"
      ]
    },
    {
      "cell_type": "code",
      "execution_count": 6,
      "id": "9b63bbc0",
      "metadata": {
        "colab": {
          "base_uri": "https://localhost:8080/"
        },
        "id": "9b63bbc0",
        "outputId": "69911bd8-019a-44bd-9f80-1d3a92f91744"
      },
      "outputs": [
        {
          "output_type": "stream",
          "name": "stdout",
          "text": [
            "Student Name                  0\n",
            "Avg Hours Studies per Week    0\n",
            "GPA                           1\n",
            "University                    0\n",
            "Sense of Humour (0-5)         2\n",
            "Salary                        0\n",
            "dtype: int64\n",
            "  Student Name  Avg Hours Studies per Week     GPA     University  \\\n",
            "0       George                          20  3.1125            NYU   \n",
            "1        Jerry                          35  3.5000       Columbia   \n",
            "2       Elaine                          55  4.0000       Columbia   \n",
            "3        Cosmo                           5  2.0000   City College   \n",
            "4       Newman                          25  2.8000   City College   \n",
            "5        Frank                          35  3.0000   Festivus Uni   \n",
            "6      Estelle                         100  3.2000  Festivus Uni    \n",
            "7          Leo                          15  2.4000   Festivus Uni   \n",
            "8       Rachel                          50  4.0000       Columbia   \n",
            "\n",
            "   Sense of Humour (0-5)   Salary  \n",
            "0                    3.0  40000.0  \n",
            "1                    5.0  80000.0  \n",
            "2                    4.2  60000.0  \n",
            "3                    2.0  25000.0  \n",
            "4                    0.0  50000.0  \n",
            "5                    NaN  40000.0  \n",
            "6                    1.7      0.0  \n",
            "7                    0.0  35000.0  \n",
            "8                    NaN  75000.0  \n"
          ]
        },
        {
          "output_type": "stream",
          "name": "stderr",
          "text": [
            "<ipython-input-6-da9f9f2a2c71>:7: FutureWarning: A value is trying to be set on a copy of a DataFrame or Series through chained assignment using an inplace method.\n",
            "The behavior will change in pandas 3.0. This inplace method will never work because the intermediate object on which we are setting values always behaves as a copy.\n",
            "\n",
            "For example, when doing 'df[col].method(value, inplace=True)', try using 'df.method({col: value}, inplace=True)' or df[col] = df[col].method(value) instead, to perform the operation inplace on the original object.\n",
            "\n",
            "\n",
            "  grads['GPA'].fillna(grads['GPA'].mean(), inplace=True)\n"
          ]
        }
      ],
      "source": [
        "# Step 1: Check for missing values\n",
        "print(grads.isnull().sum())\n",
        "\n",
        "# Step 2: Decide how to handle missing values\n",
        "# - The missing GPA for George will be filled with the mean GPA, as it's a single missing value\n",
        "# - No rows or columns will be deleted since the missing data is minimal and can be imputed\n",
        "grads['GPA'].fillna(grads['GPA'].mean(), inplace=True)\n",
        "\n",
        "# Step 3: Verify the data after handling missing values\n",
        "print(grads)\n"
      ]
    },
    {
      "cell_type": "code",
      "source": [
        "# Fill missing GPA value with the mean GPA\n",
        "grads['GPA'] = grads['GPA'].fillna(grads['GPA'].mean())\n",
        "\n",
        "# Fill missing Sense of Humour values with the median of the column\n",
        "# Median is chosen here because it's less sensitive to outliers\n",
        "grads['Sense of Humour (0-5)'] = grads['Sense of Humour (0-5)'].fillna(grads['Sense of Humour (0-5)'].median())\n",
        "\n",
        "# Verify the dataset after handling missing values\n",
        "print(grads.isnull().sum())  # Should show 0 missing values\n",
        "print(grads)\n"
      ],
      "metadata": {
        "colab": {
          "base_uri": "https://localhost:8080/"
        },
        "id": "1ae2AMY48PcY",
        "outputId": "c8169b86-c9c0-4520-9264-2c280c4dc3e1"
      },
      "id": "1ae2AMY48PcY",
      "execution_count": 7,
      "outputs": [
        {
          "output_type": "stream",
          "name": "stdout",
          "text": [
            "Student Name                  0\n",
            "Avg Hours Studies per Week    0\n",
            "GPA                           0\n",
            "University                    0\n",
            "Sense of Humour (0-5)         0\n",
            "Salary                        0\n",
            "dtype: int64\n",
            "  Student Name  Avg Hours Studies per Week     GPA     University  \\\n",
            "0       George                          20  3.1125            NYU   \n",
            "1        Jerry                          35  3.5000       Columbia   \n",
            "2       Elaine                          55  4.0000       Columbia   \n",
            "3        Cosmo                           5  2.0000   City College   \n",
            "4       Newman                          25  2.8000   City College   \n",
            "5        Frank                          35  3.0000   Festivus Uni   \n",
            "6      Estelle                         100  3.2000  Festivus Uni    \n",
            "7          Leo                          15  2.4000   Festivus Uni   \n",
            "8       Rachel                          50  4.0000       Columbia   \n",
            "\n",
            "   Sense of Humour (0-5)   Salary  \n",
            "0                    3.0  40000.0  \n",
            "1                    5.0  80000.0  \n",
            "2                    4.2  60000.0  \n",
            "3                    2.0  25000.0  \n",
            "4                    0.0  50000.0  \n",
            "5                    2.0  40000.0  \n",
            "6                    1.7      0.0  \n",
            "7                    0.0  35000.0  \n",
            "8                    2.0  75000.0  \n"
          ]
        }
      ]
    },
    {
      "cell_type": "code",
      "source": [
        "# To address missing values:\n",
        "# 1. The missing GPA value for George was filled with the mean GPA (3.1125),\n",
        "#    as it represents the central tendency of the data and minimizes bias.\n",
        "# 2. Missing values in the 'Sense of Humour (0-5)' column for Frank and Rachel\n",
        "#    were filled with the median value (2.0). Median imputation is more robust\n",
        "#    in the presence of outliers and maintains the dataset's integrity.\n",
        "# After these imputations, the dataset now has no missing values, ensuring it is\n",
        "# complete and ready for analysis without dropping rows or columns unnecessarily.\n"
      ],
      "metadata": {
        "id": "T41zjD3F8UEi"
      },
      "id": "T41zjD3F8UEi",
      "execution_count": 9,
      "outputs": []
    },
    {
      "cell_type": "markdown",
      "id": "bfa5a43f",
      "metadata": {
        "id": "bfa5a43f"
      },
      "source": [
        "Question 3: Reload the data and fill-in the data using mean method as well as the frequent method."
      ]
    },
    {
      "cell_type": "code",
      "execution_count": 10,
      "id": "39e4e77e",
      "metadata": {
        "colab": {
          "base_uri": "https://localhost:8080/"
        },
        "id": "39e4e77e",
        "outputId": "91ebf3f1-2839-4997-8e34-b312b1112eb8"
      },
      "outputs": [
        {
          "output_type": "stream",
          "name": "stdout",
          "text": [
            "Dataset after Mean Imputation:\n",
            "  Student Name  Avg Hours Studies per Week     GPA     University  \\\n",
            "0       George                          20  3.1125            NYU   \n",
            "1        Jerry                          35  3.5000       Columbia   \n",
            "2       Elaine                          55  4.0000       Columbia   \n",
            "3        Cosmo                           5  2.0000   City College   \n",
            "4       Newman                          25  2.8000   City College   \n",
            "5        Frank                          35  3.0000   Festivus Uni   \n",
            "6      Estelle                         100  3.2000  Festivus Uni    \n",
            "7          Leo                          15  2.4000   Festivus Uni   \n",
            "8       Rachel                          50  4.0000       Columbia   \n",
            "\n",
            "   Sense of Humour (0-5)   Salary  \n",
            "0               3.000000  40000.0  \n",
            "1               5.000000  80000.0  \n",
            "2               4.200000  60000.0  \n",
            "3               2.000000  25000.0  \n",
            "4               0.000000  50000.0  \n",
            "5               2.271429  40000.0  \n",
            "6               1.700000      0.0  \n",
            "7               0.000000  35000.0  \n",
            "8               2.271429  75000.0  \n",
            "\n",
            "Dataset after Frequent (Mode) Imputation:\n",
            "  Student Name  Avg Hours Studies per Week  GPA     University  \\\n",
            "0       George                          20  4.0            NYU   \n",
            "1        Jerry                          35  3.5       Columbia   \n",
            "2       Elaine                          55  4.0       Columbia   \n",
            "3        Cosmo                           5  2.0   City College   \n",
            "4       Newman                          25  2.8   City College   \n",
            "5        Frank                          35  3.0   Festivus Uni   \n",
            "6      Estelle                         100  3.2  Festivus Uni    \n",
            "7          Leo                          15  2.4   Festivus Uni   \n",
            "8       Rachel                          50  4.0       Columbia   \n",
            "\n",
            "   Sense of Humour (0-5)   Salary  \n",
            "0                    3.0  40000.0  \n",
            "1                    5.0  80000.0  \n",
            "2                    4.2  60000.0  \n",
            "3                    2.0  25000.0  \n",
            "4                    0.0  50000.0  \n",
            "5                    0.0  40000.0  \n",
            "6                    1.7      0.0  \n",
            "7                    0.0  35000.0  \n",
            "8                    0.0  75000.0  \n"
          ]
        }
      ],
      "source": [
        "# Reload the data\n",
        "grads = pd.read_csv(\"https://raw.githubusercontent.com/harmanani/AAI614/main/Week%203/grads.csv\")\n",
        "\n",
        "# Convert Salary to numeric for consistency\n",
        "grads['Salary'] = grads['Salary'].replace({'\\$': '', 'k': ''}, regex=True).astype(float) * 1000\n",
        "\n",
        "# Fill missing values using the mean method\n",
        "grads_mean = grads.copy()\n",
        "grads_mean['GPA'] = grads_mean['GPA'].fillna(grads_mean['GPA'].mean())\n",
        "grads_mean['Sense of Humour (0-5)'] = grads_mean['Sense of Humour (0-5)'].fillna(grads_mean['Sense of Humour (0-5)'].mean())\n",
        "\n",
        "# Fill missing values using the frequent (mode) method\n",
        "grads_frequent = grads.copy()\n",
        "grads_frequent['GPA'] = grads_frequent['GPA'].fillna(grads_frequent['GPA'].mode()[0])\n",
        "grads_frequent['Sense of Humour (0-5)'] = grads_frequent['Sense of Humour (0-5)'].fillna(grads_frequent['Sense of Humour (0-5)'].mode()[0])\n",
        "\n",
        "# Verify the datasets\n",
        "print(\"Dataset after Mean Imputation:\")\n",
        "print(grads_mean)\n",
        "\n",
        "print(\"\\nDataset after Frequent (Mode) Imputation:\")\n",
        "print(grads_frequent)\n"
      ]
    },
    {
      "cell_type": "code",
      "source": [
        "# Two imputation methods were applied to handle missing values:\n",
        "\n",
        "# 1. **Mean Imputation**:\n",
        "#    - For the 'GPA' column, the missing value was replaced with the mean GPA (3.1125).\n",
        "#    - For the 'Sense of Humour (0-5)' column, missing values were replaced with the mean (2.271429).\n",
        "#    - This approach maintains the central tendency of the data but may not represent realistic individual values.\n",
        "#    - For example, Frank's humor score of 2.271429 may not be practical, as the original scale is discrete (0-5).\n",
        "\n",
        "# 2. **Frequent (Mode) Imputation**:\n",
        "#    - For the 'GPA' column, the missing value was replaced with the most frequent GPA (4.0).\n",
        "#    - For the 'Sense of Humour (0-5)' column, missing values were replaced with the most frequent score (0.0).\n",
        "#    - This approach ensures imputed values are realistic but might oversimplify the dataset, as mode values may not always reflect true diversity in data.\n",
        "\n",
        "# **Observations**:\n",
        "# - Mean imputation smooths the dataset by introducing average values but risks generating unrealistic individual scores.\n",
        "# - Frequent (mode) imputation preserves the existing scale but might skew the dataset if a single mode dominates.\n",
        "# - The choice between these methods depends on the analysis goals and the nature of the dataset. For instance:\n",
        "#    - Mean imputation is better for predictive modeling where smooth data is preferred.\n",
        "#    - Frequent (mode) imputation is better when maintaining categorical or ordinal consistency is important.\n",
        "\n",
        "# Both datasets are now complete, with no missing values.\n"
      ],
      "metadata": {
        "id": "94EOAwZl9F_L"
      },
      "id": "94EOAwZl9F_L",
      "execution_count": 11,
      "outputs": []
    },
    {
      "cell_type": "markdown",
      "id": "26a4657e",
      "metadata": {
        "id": "26a4657e"
      },
      "source": [
        "Exercise II. Run the cell below to create a new dataframe called `df_miss`.  Its first column will contain some missing values."
      ]
    },
    {
      "cell_type": "code",
      "execution_count": 12,
      "id": "4565ad8c",
      "metadata": {
        "colab": {
          "base_uri": "https://localhost:8080/"
        },
        "id": "4565ad8c",
        "outputId": "8dbb846d-66c4-49ae-9978-aaac20d20170"
      },
      "outputs": [
        {
          "output_type": "stream",
          "name": "stdout",
          "text": [
            "      col_0     col_1     col_2     col_3     col_4\n",
            "0       NaN       NaN  0.265048  0.783205  0.918001\n",
            "1  0.827355       NaN  0.260480  0.911763  0.260757\n",
            "2  0.766376  0.261531  0.122291  0.386006  0.840081\n",
            "3       NaN       NaN  0.633110  0.584766  0.581232\n",
            "4  0.677205  0.687155  0.438927  0.320927  0.570552\n",
            "5       NaN  0.861074  0.834805  0.105766  0.060408\n",
            "6  0.596882  0.792395  0.226356  0.535201  0.136066\n",
            "7  0.372244  0.151977  0.429822  0.792706  0.406957\n",
            "8  0.177850  0.909252  0.545331  0.100497  0.718721\n",
            "9  0.978429  0.309776  0.260126  0.662900  0.139720\n"
          ]
        }
      ],
      "source": [
        "import pandas as pd\n",
        "import numpy as np\n",
        "import random\n",
        "\n",
        "nrows = 10\n",
        "ncols = 5\n",
        "\n",
        "# Set a seed for random number generation\n",
        "np.random.seed(314)\n",
        "\n",
        "# Create an array filled with random data\n",
        "data = np.array(np.random.rand(nrows, ncols))\n",
        "\n",
        "# Put the data into a pandas DataFrame\n",
        "df_miss = pd.DataFrame(data)\n",
        "\n",
        "# Rename the columns\n",
        "df_miss.columns = ['col_' + str(ii) for ii in range(ncols)]\n",
        "\n",
        "# Randomly set some values to missing\n",
        "ix0 = np.random.randint(nrows, size=3)\n",
        "ix1 = np.random.randint(nrows, size=3)\n",
        "\n",
        "df_miss.loc[ix0, 'col_0'] = np.nan\n",
        "df_miss.loc[ix1, 'col_1'] = np.nan\n",
        "\n",
        "print(df_miss)\n"
      ]
    },
    {
      "cell_type": "markdown",
      "id": "5c6e0c64",
      "metadata": {
        "id": "5c6e0c64"
      },
      "source": [
        "Impute the missing values (NaN) in `col_0` (but not `col_1`) with the median.  Store the values in the dataframe by using the parameter `inplace`.  Print the dataframe."
      ]
    },
    {
      "cell_type": "code",
      "execution_count": 14,
      "id": "253efe31",
      "metadata": {
        "colab": {
          "base_uri": "https://localhost:8080/"
        },
        "id": "253efe31",
        "outputId": "e3e27efd-3aca-4ecd-84fd-ecd8d046f566"
      },
      "outputs": [
        {
          "output_type": "stream",
          "name": "stdout",
          "text": [
            "      col_0     col_1     col_2     col_3     col_4\n",
            "0  0.677205       NaN  0.265048  0.783205  0.918001\n",
            "1  0.827355       NaN  0.260480  0.911763  0.260757\n",
            "2  0.766376  0.261531  0.122291  0.386006  0.840081\n",
            "3  0.677205       NaN  0.633110  0.584766  0.581232\n",
            "4  0.677205  0.687155  0.438927  0.320927  0.570552\n",
            "5  0.677205  0.861074  0.834805  0.105766  0.060408\n",
            "6  0.596882  0.792395  0.226356  0.535201  0.136066\n",
            "7  0.372244  0.151977  0.429822  0.792706  0.406957\n",
            "8  0.177850  0.909252  0.545331  0.100497  0.718721\n",
            "9  0.978429  0.309776  0.260126  0.662900  0.139720\n"
          ]
        },
        {
          "output_type": "stream",
          "name": "stderr",
          "text": [
            "<ipython-input-14-3d6f0cf7ec23>:2: FutureWarning: A value is trying to be set on a copy of a DataFrame or Series through chained assignment using an inplace method.\n",
            "The behavior will change in pandas 3.0. This inplace method will never work because the intermediate object on which we are setting values always behaves as a copy.\n",
            "\n",
            "For example, when doing 'df[col].method(value, inplace=True)', try using 'df.method({col: value}, inplace=True)' or df[col] = df[col].method(value) instead, to perform the operation inplace on the original object.\n",
            "\n",
            "\n",
            "  df_miss['col_0'].fillna(df_miss['col_0'].median(), inplace=True)\n"
          ]
        }
      ],
      "source": [
        "# Impute missing values in col_0 with the median\n",
        "df_miss['col_0'].fillna(df_miss['col_0'].median(), inplace=True)\n",
        "\n",
        "# Print the updated dataframe\n",
        "print(df_miss)\n"
      ]
    },
    {
      "cell_type": "code",
      "source": [
        "# Use direct assignment instead of inplace=True to avoid FutureWarning\n",
        "df_miss['col_0'] = df_miss['col_0'].fillna(df_miss['col_0'].median())\n",
        "\n",
        "# Print the updated DataFrame\n",
        "print(df_miss)\n"
      ],
      "metadata": {
        "colab": {
          "base_uri": "https://localhost:8080/"
        },
        "id": "2B027mjM-Obl",
        "outputId": "6d0a5c8b-7112-4683-8e76-6c4b0a659ac4"
      },
      "id": "2B027mjM-Obl",
      "execution_count": 15,
      "outputs": [
        {
          "output_type": "stream",
          "name": "stdout",
          "text": [
            "      col_0     col_1     col_2     col_3     col_4\n",
            "0  0.677205       NaN  0.265048  0.783205  0.918001\n",
            "1  0.827355       NaN  0.260480  0.911763  0.260757\n",
            "2  0.766376  0.261531  0.122291  0.386006  0.840081\n",
            "3  0.677205       NaN  0.633110  0.584766  0.581232\n",
            "4  0.677205  0.687155  0.438927  0.320927  0.570552\n",
            "5  0.677205  0.861074  0.834805  0.105766  0.060408\n",
            "6  0.596882  0.792395  0.226356  0.535201  0.136066\n",
            "7  0.372244  0.151977  0.429822  0.792706  0.406957\n",
            "8  0.177850  0.909252  0.545331  0.100497  0.718721\n",
            "9  0.978429  0.309776  0.260126  0.662900  0.139720\n"
          ]
        }
      ]
    },
    {
      "cell_type": "markdown",
      "id": "e2e43725",
      "metadata": {
        "id": "e2e43725"
      },
      "source": [
        "Impute the missing values in `col_1` with value 0.  Store the values in the dataframe by using the parameter `inplace`.  Print the dataframe."
      ]
    },
    {
      "cell_type": "code",
      "execution_count": 16,
      "id": "d3c600ba",
      "metadata": {
        "colab": {
          "base_uri": "https://localhost:8080/"
        },
        "id": "d3c600ba",
        "outputId": "f41d4c04-fb5f-431c-b079-a830c0654d81"
      },
      "outputs": [
        {
          "output_type": "stream",
          "name": "stdout",
          "text": [
            "      col_0     col_1     col_2     col_3     col_4\n",
            "0  0.677205  0.000000  0.265048  0.783205  0.918001\n",
            "1  0.827355  0.000000  0.260480  0.911763  0.260757\n",
            "2  0.766376  0.261531  0.122291  0.386006  0.840081\n",
            "3  0.677205  0.000000  0.633110  0.584766  0.581232\n",
            "4  0.677205  0.687155  0.438927  0.320927  0.570552\n",
            "5  0.677205  0.861074  0.834805  0.105766  0.060408\n",
            "6  0.596882  0.792395  0.226356  0.535201  0.136066\n",
            "7  0.372244  0.151977  0.429822  0.792706  0.406957\n",
            "8  0.177850  0.909252  0.545331  0.100497  0.718721\n",
            "9  0.978429  0.309776  0.260126  0.662900  0.139720\n"
          ]
        }
      ],
      "source": [
        "# Impute missing values in col_1 with the value 0\n",
        "df_miss['col_1'] = df_miss['col_1'].fillna(0)\n",
        "\n",
        "# Print the updated DataFrame\n",
        "print(df_miss)\n"
      ]
    }
  ],
  "metadata": {
    "kernelspec": {
      "display_name": "Python 3",
      "name": "python3"
    },
    "language_info": {
      "codemirror_mode": {
        "name": "ipython",
        "version": 3
      },
      "file_extension": ".py",
      "mimetype": "text/x-python",
      "name": "python",
      "nbconvert_exporter": "python",
      "pygments_lexer": "ipython3",
      "version": "3.10.11"
    },
    "colab": {
      "provenance": [],
      "machine_shape": "hm",
      "gpuType": "A100",
      "include_colab_link": true
    },
    "accelerator": "GPU"
  },
  "nbformat": 4,
  "nbformat_minor": 5
}
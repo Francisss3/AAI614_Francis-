{
  "cells": [
    {
      "cell_type": "markdown",
      "metadata": {
        "id": "view-in-github",
        "colab_type": "text"
      },
      "source": [
        "<a href=\"https://colab.research.google.com/github/Francisss3/AAI614_Francis-/blob/main/Notebook2_5_Lab.ipynb\" target=\"_parent\"><img src=\"https://colab.research.google.com/assets/colab-badge.svg\" alt=\"Open In Colab\"/></a>"
      ]
    },
    {
      "cell_type": "markdown",
      "metadata": {
        "id": "ssJ7RoUxT7c4"
      },
      "source": [
        "# AAI614: Data Science & its Applications\n",
        "\n",
        "*Notebook 2.5: Practice with Parquet and File Types*\n",
        "\n",
        "<a href=\"https://colab.research.google.com/github/harmanani/AAI614/blob/main/Week%202/Notebook2.5.ipynb\" target=\"_parent\"><img src=\"https://colab.research.google.com/assets/colab-badge.svg\" alt=\"Open In Colab\"/></a>"
      ]
    },
    {
      "cell_type": "code",
      "execution_count": 1,
      "metadata": {
        "id": "Oy09JEo3T7c5"
      },
      "outputs": [],
      "source": [
        "import pandas as pd\n",
        "import time\n",
        "import ssl\n",
        "\n",
        "ssl._create_default_https_context = ssl._create_unverified_context"
      ]
    },
    {
      "cell_type": "code",
      "execution_count": 2,
      "metadata": {
        "id": "0brz49nxT7c6"
      },
      "outputs": [],
      "source": [
        "class Timer:\n",
        "    def __enter__(self):\n",
        "        self.start = time.perf_counter()\n",
        "        return self\n",
        "\n",
        "    def __exit__(self, *args):\n",
        "        self.end = time.perf_counter()\n",
        "        self.interval = self.end - self.start"
      ]
    },
    {
      "cell_type": "markdown",
      "metadata": {
        "id": "ylYSFc6vT7c6"
      },
      "source": [
        "##### Read the Parqeut file and time it"
      ]
    },
    {
      "cell_type": "code",
      "execution_count": 3,
      "metadata": {
        "colab": {
          "base_uri": "https://localhost:8080/"
        },
        "id": "kn42oXbsT7c7",
        "outputId": "ef423655-9825-4314-9cef-98ff7299d203"
      },
      "outputs": [
        {
          "output_type": "stream",
          "name": "stdout",
          "text": [
            "0.17727701799998385\n"
          ]
        }
      ],
      "source": [
        "with Timer() as t_pd:\n",
        "    df = pd.read_parquet('https://raw.githubusercontent.com/harmanani/AAI614/main/Week%202/niaaa-report.parquet')\n",
        "print(t_pd.interval)"
      ]
    },
    {
      "cell_type": "markdown",
      "metadata": {
        "id": "c9jG5YqmT7c7"
      },
      "source": [
        "#### Read the CSV file and time it"
      ]
    },
    {
      "cell_type": "code",
      "execution_count": 4,
      "metadata": {
        "colab": {
          "base_uri": "https://localhost:8080/"
        },
        "id": "WMVC6mekT7c7",
        "outputId": "b2bcc142-4eba-4062-cb63-2d4c72e04b50"
      },
      "outputs": [
        {
          "output_type": "stream",
          "name": "stdout",
          "text": [
            "0.06326201600001014\n"
          ]
        }
      ],
      "source": [
        "with Timer() as t_pd:\n",
        "    df = pd.read_csv('https://raw.githubusercontent.com/harmanani/AAI614/main/Week%202/niaaa-report.csv')\n",
        "print(t_pd.interval)"
      ]
    },
    {
      "cell_type": "markdown",
      "metadata": {
        "id": "vRPbhPr4T7c8"
      },
      "source": [
        "#### Read the ZIP file and time it"
      ]
    },
    {
      "cell_type": "code",
      "execution_count": 5,
      "metadata": {
        "colab": {
          "base_uri": "https://localhost:8080/"
        },
        "id": "e8rv7K8dT7c8",
        "outputId": "3a13a2aa-c60a-4182-e9ff-05019cf02267"
      },
      "outputs": [
        {
          "output_type": "stream",
          "name": "stdout",
          "text": [
            "0.04632902800000238\n"
          ]
        }
      ],
      "source": [
        "import zipfile\n",
        "with Timer() as t_pd:\n",
        "    df = pd.read_csv('https://raw.githubusercontent.com/harmanani/AAI614/main/Week%202/niaaa-report.zip', compression=\"zip\")\n",
        "print(t_pd.interval)"
      ]
    },
    {
      "cell_type": "markdown",
      "metadata": {
        "id": "s64vbzzuT7c9"
      },
      "source": []
    }
  ],
  "metadata": {
    "kernelspec": {
      "display_name": "Python 3",
      "name": "python3"
    },
    "language_info": {
      "codemirror_mode": {
        "name": "ipython",
        "version": 3
      },
      "file_extension": ".py",
      "mimetype": "text/x-python",
      "name": "python",
      "nbconvert_exporter": "python",
      "pygments_lexer": "ipython3",
      "version": "3.10.11"
    },
    "colab": {
      "provenance": [],
      "machine_shape": "hm",
      "gpuType": "A100",
      "include_colab_link": true
    },
    "accelerator": "GPU"
  },
  "nbformat": 4,
  "nbformat_minor": 0
}
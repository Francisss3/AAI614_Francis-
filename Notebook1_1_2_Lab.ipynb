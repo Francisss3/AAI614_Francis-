{
  "cells": [
    {
      "cell_type": "markdown",
      "metadata": {
        "id": "view-in-github",
        "colab_type": "text"
      },
      "source": [
        "<a href=\"https://colab.research.google.com/github/Francisss3/AAI614_Francis-/blob/main/Notebook1_1_2_Lab.ipynb\" target=\"_parent\"><img src=\"https://colab.research.google.com/assets/colab-badge.svg\" alt=\"Open In Colab\"/></a>"
      ]
    },
    {
      "cell_type": "markdown",
      "metadata": {
        "jp-MarkdownHeadingCollapsed": true,
        "id": "MmUurMprMD9T"
      },
      "source": [
        "\n",
        "# AAI612: Deep Learning & its Applications\n",
        "\n",
        "*Notebook 1.1: Using the perceptron for linear fitting*\n",
        "\n",
        "<a href=\"https://colab.research.google.com/github/harmanani/AAI612/blob/main/Week1/Notebook1.1.ipynb\" target=\"_parent\"><img src=\"https://colab.research.google.com/assets/colab-badge.svg\" alt=\"Open In Colab\"/></a>"
      ]
    },
    {
      "cell_type": "markdown",
      "source": [],
      "metadata": {
        "id": "QmHEnY_XPT5Y"
      }
    },
    {
      "cell_type": "markdown",
      "metadata": {
        "id": "ZIAkIlfmCe1B"
      },
      "source": [
        "Notebook 1.1"
      ]
    },
    {
      "cell_type": "markdown",
      "metadata": {
        "id": "fA93WUy1zzWf"
      },
      "source": [
        "In this notebook, we will perform linear regression using a single neuron.  We will be using `TensorFlow` and `Keras`; however, do not worry about the details of the language for the moment as we will get back to these later on.\n",
        "\n",
        "The simple mode we will be looking at will learn the relationship between two numbers and will be used to predict other numbers. For example, if you were writing code for a function like this:\n",
        "\n",
        "\n",
        "```\n",
        "y = mx + b\n",
        "```\n",
        "\n",
        "How would you train a neural network to do the equivalent task? Well, we said using data, a lot of data! The approach is to feed the model with a set of Xs, and a set of Ys, it should be able to figure out the relationship between them."
      ]
    },
    {
      "cell_type": "markdown",
      "metadata": {
        "id": "WH71ETMuMD9V"
      },
      "source": [
        "# Linear Regression"
      ]
    },
    {
      "cell_type": "markdown",
      "metadata": {
        "id": "kOoRTrH2MD9V"
      },
      "source": [
        "Let us start by linear regression.   Assume we have the following simple dataset.  We can easily fit using `polyfit():`"
      ]
    },
    {
      "cell_type": "code",
      "execution_count": 1,
      "metadata": {
        "id": "Dz4StMftMD9V"
      },
      "outputs": [],
      "source": [
        "from numpy.polynomial.polynomial import polyfit\n",
        "import matplotlib.pyplot as plt\n",
        "import numpy as np\n",
        "\n",
        "\n",
        "x = np.array([ 0,  1,  2,  3,  4,  5,  6,  7,  8,  9])\n",
        "y = np.array([10, 20, 25, 30, 40, 45, 40, 50, 60, 55])"
      ]
    },
    {
      "cell_type": "markdown",
      "metadata": {
        "id": "5lHiCGHKMD9W"
      },
      "source": [
        "Let us explore the data!"
      ]
    },
    {
      "cell_type": "code",
      "execution_count": 2,
      "metadata": {
        "colab": {
          "base_uri": "https://localhost:8080/",
          "height": 430
        },
        "id": "uLkHcgiZMD9X",
        "outputId": "45d9cac0-0730-40e4-f441-245d4c96f97e"
      },
      "outputs": [
        {
          "output_type": "display_data",
          "data": {
            "text/plain": [
              "<Figure size 640x480 with 1 Axes>"
            ],
            "image/png": "[encoded data removed]"
          },
          "metadata": {}
        }
      ],
      "source": [
        "plt.plot(x, y, '.')\n",
        "plt.show()"
      ]
    },
    {
      "cell_type": "markdown",
      "metadata": {
        "id": "5loq3ZpKMD9Y"
      },
      "source": [
        "Now, let us see how we can best fit this data using the `polyfit`:"
      ]
    },
    {
      "cell_type": "code",
      "execution_count": 3,
      "metadata": {
        "id": "MtdfqZLwMD9Y"
      },
      "outputs": [],
      "source": [
        "b, m = polyfit(x,y,1)\n",
        "\n",
        "y_hat = m*x+b"
      ]
    },
    {
      "cell_type": "markdown",
      "metadata": {
        "id": "yU8zHk_gMD9Y"
      },
      "source": [
        "The above data fit results with the following equation:"
      ]
    },
    {
      "cell_type": "code",
      "execution_count": 4,
      "metadata": {
        "colab": {
          "base_uri": "https://localhost:8080/"
        },
        "id": "Nu06QJuMMD9Z",
        "outputId": "3dd0e88b-3e86-42af-9e0d-c2800aca11d5"
      },
      "outputs": [
        {
          "output_type": "stream",
          "name": "stdout",
          "text": [
            "Equation that best fits the data is: Y = 5.12 * x + 14.45\n"
          ]
        }
      ],
      "source": [
        "print(\"Equation that best fits the data is: Y = %2.2f * x + %5.2f\" % (m,b))"
      ]
    },
    {
      "cell_type": "markdown",
      "metadata": {
        "id": "lJVdmg20MD9Z"
      },
      "source": [
        "and now, let us see how it fits visually:"
      ]
    },
    {
      "cell_type": "code",
      "execution_count": 5,
      "metadata": {
        "colab": {
          "base_uri": "https://localhost:8080/",
          "height": 430
        },
        "id": "35cU23CVMD9Z",
        "outputId": "6b69fa11-c58b-461a-e32c-d42ab7658ba2"
      },
      "outputs": [
        {
          "output_type": "display_data",
          "data": {
            "text/plain": [
              "<Figure size 640x480 with 1 Axes>"
            ],
            "image/png": "[encoded data removed]"
          },
          "metadata": {}
        }
      ],
      "source": [
        "plt.plot(x, y, '.')\n",
        "plt.plot(x, y_hat, '-')\n",
        "plt.show()"
      ]
    },
    {
      "cell_type": "markdown",
      "metadata": {
        "id": "L8rqaWqaMD9a"
      },
      "source": [
        "Let us predict y for x = 10"
      ]
    },
    {
      "cell_type": "code",
      "execution_count": 6,
      "metadata": {
        "colab": {
          "base_uri": "https://localhost:8080/"
        },
        "id": "FvpiulnZMD9a",
        "outputId": "95888700-e65f-40b2-9dd3-c38177163a5c"
      },
      "outputs": [
        {
          "output_type": "stream",
          "name": "stdout",
          "text": [
            "65.66666666666664\n"
          ]
        }
      ],
      "source": [
        "x = 10\n",
        "print(m*x+b)"
      ]
    },
    {
      "cell_type": "markdown",
      "metadata": {
        "id": "qHOtXNJPMD9b"
      },
      "source": [
        "Now, let us try this all over again using one neuron.  We will be using `Keras` and `TesnorFlow`."
      ]
    },
    {
      "cell_type": "markdown",
      "metadata": {
        "id": "DzbtdRcZDO9B"
      },
      "source": [
        "## Imports\n",
        "\n",
        "Let's start with our imports. Here we are importing 'TensorFlow' and calling it tf for ease of use.  We do of course need to import `numpy`, which helps us to represent our data as lists easily and quickly.  Finally, the framework for defining a neural network as a set of Sequential layers is called keras, so we import that too."
      ]
    },
    {
      "cell_type": "code",
      "execution_count": 7,
      "metadata": {
        "id": "X9uIpOS2zx7k",
        "colab": {
          "base_uri": "https://localhost:8080/"
        },
        "outputId": "f8c8e53e-79df-4fd5-aee6-d7997ca346c0"
      },
      "outputs": [
        {
          "output_type": "stream",
          "name": "stdout",
          "text": [
            "2.17.1\n"
          ]
        }
      ],
      "source": [
        "import tensorflow as tf\n",
        "import numpy as np\n",
        "from tensorflow import keras\n",
        "\n",
        "print(tf.__version__)"
      ]
    },
    {
      "cell_type": "markdown",
      "metadata": {
        "id": "wwJGmDrQ0EoB"
      },
      "source": [
        "## Define and Compile the Neural Network\n",
        "\n",
        "Next we will create the simplest possible neural network. It has 1 layer, and that layer has 1 neuron, and the input shape to it is just 1 value."
      ]
    },
    {
      "cell_type": "code",
      "execution_count": 8,
      "metadata": {
        "id": "kQFAr_xo0M4T",
        "colab": {
          "base_uri": "https://localhost:8080/"
        },
        "outputId": "95c94656-18f5-44f3-f6d5-8f3943736f86"
      },
      "outputs": [
        {
          "output_type": "stream",
          "name": "stderr",
          "text": [
            "/usr/local/lib/python3.11/dist-packages/keras/src/layers/core/dense.py:87: UserWarning: Do not pass an `input_shape`/`input_dim` argument to a layer. When using Sequential models, prefer using an `Input(shape)` object as the first layer in the model instead.\n",
            "  super().__init__(activity_regularizer=activity_regularizer, **kwargs)\n"
          ]
        }
      ],
      "source": [
        "model = tf.keras.Sequential([keras.layers.Dense(units=1, input_shape=[1])])"
      ]
    },
    {
      "cell_type": "markdown",
      "metadata": {
        "id": "KhjZjZ-c0Ok9"
      },
      "source": [
        "Now we compile our Neural Network. When we do so, we have to specify 2 functions, a loss and an optimizer.\n",
        "\n",
        "If you've seen lots of math for machine learning, here's where it's usually used, but in this case it's nicely encapsulated in functions for you. But what happens here — let's explain...\n",
        "\n",
        "We know that in our function, the relationship between the numbers is Y = 5.12 * x + 14.45.\n",
        "\n",
        "When the computer is trying to 'learn' that, it makes a guess...maybe y=10x+10. The LOSS function measures the guessed answers against the known correct answers and measures how well or how badly it did.\n",
        "\n",
        "It then uses the OPTIMIZER function to make another guess. Based on how the loss function went, it will try to minimize the loss. At that point maybe it will come up with somehting like y=5x+5, which, while still pretty bad, is closer to the correct result (i.e. the loss is lower)\n",
        "\n",
        "It will repeat this for the number of EPOCHS which you will see shortly. But first, here's how we tell it to use 'MEAN SQUARED ERROR' for the loss and 'STOCHASTIC GRADIENT DESCENT' for the optimizer. You don't need to understand the math for these yet, but you can see that they work! :)\n",
        "\n",
        "Over time you will learn the different and appropriate loss and optimizer functions for different scenarios.\n"
      ]
    },
    {
      "cell_type": "code",
      "execution_count": 9,
      "metadata": {
        "id": "m8YQN1H41L-Y"
      },
      "outputs": [],
      "source": [
        "model.compile(optimizer='sgd', loss='mean_squared_error')"
      ]
    },
    {
      "cell_type": "markdown",
      "metadata": {
        "id": "5QyOUhFw1OUX"
      },
      "source": [
        "## Providing the Data\n",
        "\n",
        "Next up we'll feed in some data. In this case we are taking 6 xs and 6ys. You can see that the relationship between these is that y=2x-1, so where x = -1, y=-3 etc. etc.\n",
        "\n",
        "A python library called 'Numpy' provides lots of array type data structures that are a defacto standard way of doing it. We declare that we want to use these by specifying the values as an np.array[]"
      ]
    },
    {
      "cell_type": "markdown",
      "metadata": {
        "id": "aE3Sn0KgMD9e"
      },
      "source": [
        "### Let us try this dataset!"
      ]
    },
    {
      "cell_type": "markdown",
      "metadata": {
        "id": "WVjy7CHEMD9f"
      },
      "source": [
        "Comment the above data set and try this one now:"
      ]
    },
    {
      "cell_type": "code",
      "execution_count": 10,
      "metadata": {
        "id": "GM_vcg-IMD9f"
      },
      "outputs": [],
      "source": [
        "xs = np.array([ 0,  1,  2,  3,  4,  5,  6,  7,  8,  9])\n",
        "ys = np.array([10, 20, 25, 30, 40, 45, 40, 50, 60, 55])"
      ]
    },
    {
      "cell_type": "markdown",
      "metadata": {
        "id": "n_YcWRElnM_b"
      },
      "source": [
        "# Training the Neural Network"
      ]
    },
    {
      "cell_type": "markdown",
      "metadata": {
        "id": "c-Jk4dG91dvD"
      },
      "source": [
        "The process of training the neural network, where it 'learns' the relationship between the Xs and Ys is in the **model.fit**  call. This is where it will go through the loop we spoke about above, making a guess, measuring how good or bad it is (aka the loss), using the opimizer to make another guess etc. It will do it for the number of epochs you specify. When you run this code, you'll see the loss on the right hand side."
      ]
    },
    {
      "cell_type": "code",
      "execution_count": 11,
      "metadata": {
        "id": "lpRrl7WK10Pq"
      },
      "outputs": [],
      "source": [
        "from keras.callbacks import History\n",
        "history = History()\n",
        "\n",
        "x = model.fit(xs, ys, epochs=500, callbacks=[history], verbose=0)"
      ]
    },
    {
      "cell_type": "markdown",
      "metadata": {
        "id": "kaFIr71H2OZ-"
      },
      "source": [
        "Ok, that we have a model that we have trained to learn the relationship between X and Y, we can use the **model.predict** method to have it figure out the Y for a previously unknown X. So, for example, if X = 2, what do you think Y will be? Take a guess before you run this code:"
      ]
    },
    {
      "cell_type": "code",
      "execution_count": 12,
      "metadata": {
        "colab": {
          "base_uri": "https://localhost:8080/"
        },
        "id": "DvZi2cDGMD9h",
        "outputId": "c7627b16-6a36-4485-b891-f79b4c43bfb3"
      },
      "outputs": [
        {
          "output_type": "stream",
          "name": "stdout",
          "text": [
            "{'loss': [1954.7369384765625, 391.1058044433594, 120.5058822631836, 73.29874420166016, 64.690673828125, 62.75617218017578, 61.97965621948242, 61.408180236816406, 60.877052307128906, 60.357757568359375, 59.8453254699707, 59.33887481689453, 58.83811569213867, 58.343017578125, 57.85349655151367, 57.369483947753906, 56.89091110229492, 56.417747497558594, 55.949920654296875, 55.48735427856445, 55.02997589111328, 54.57777786254883, 54.130653381347656, 53.6885871887207, 53.25148391723633, 52.819313049316406, 52.39198684692383, 51.969482421875, 51.5517578125, 51.138710021972656, 50.73032760620117, 50.32654571533203, 49.92730712890625, 49.53258514404297, 49.14229202270508, 48.756385803222656, 48.374839782714844, 47.9975700378418, 47.624576568603516, 47.255767822265625, 46.891117095947266, 46.53056335449219, 46.17409133911133, 45.82161331176758, 45.47312545776367, 45.12854766845703, 44.787864685058594, 44.45100784301758, 44.117942810058594, 43.78862762451172, 43.46303176879883, 43.141090393066406, 42.822776794433594, 42.50807189941406, 42.19689178466797, 41.88919448852539, 41.58500289916992, 41.28421401977539, 40.98683166503906, 40.69276428222656, 40.402034759521484, 40.11457824707031, 39.830352783203125, 39.549339294433594, 39.27149200439453, 38.99675750732422, 38.72513198852539, 38.45655059814453, 38.191001892089844, 37.928443908691406, 37.668846130371094, 37.412166595458984, 37.15837478637695, 36.907447814941406, 36.65935516357422, 36.41404342651367, 36.17150115966797, 35.93169403076172, 35.6945686340332, 35.46013641357422, 35.228336334228516, 34.99913787841797, 34.77252197265625, 34.54848098754883, 34.326942443847656, 34.10791778564453, 33.89134216308594, 33.67721176147461, 33.465476989746094, 33.25615692138672, 33.049171447753906, 32.844520568847656, 32.64217758178711, 32.44211959838867, 32.24430847167969, 32.048728942871094, 31.855350494384766, 31.664148330688477, 31.475101470947266, 31.28818130493164, 31.103368759155273, 30.920635223388672, 30.73995590209961, 30.561321258544922, 30.384689331054688, 30.210071563720703, 30.037389755249023, 29.866662979125977, 29.697860717773438, 29.530963897705078, 29.36594009399414, 29.20277976989746, 29.041439056396484, 28.881933212280273, 28.724218368530273, 28.568286895751953, 28.414112091064453, 28.26165771484375, 28.11093521118164, 27.9619083404541, 27.81455421447754, 27.66886329650879, 27.52482032775879, 27.382375717163086, 27.241561889648438, 27.102325439453125, 26.96465492248535, 26.82853126525879, 26.69394874572754, 26.560882568359375, 26.429309844970703, 26.29921531677246, 26.17059326171875, 26.04342269897461, 25.91766929626465, 25.793338775634766, 25.670429229736328, 25.548877716064453, 25.428709030151367, 25.309885025024414, 25.192398071289062, 25.07624626159668, 24.961393356323242, 24.84783172607422, 24.73556137084961, 24.624544143676758, 24.5147762298584, 24.40625, 24.298940658569336, 24.192852020263672, 24.087955474853516, 23.984237670898438, 23.88167953491211, 23.780277252197266, 23.680028915405273, 23.58090591430664, 23.482891082763672, 23.385990142822266, 23.290178298950195, 23.195444107055664, 23.10177230834961, 23.009164810180664, 22.91759490966797, 22.82706069946289, 22.737537384033203, 22.64902114868164, 22.561508178710938, 22.47498321533203, 22.389427185058594, 22.30484390258789, 22.221206665039062, 22.138504028320312, 22.056743621826172, 21.975894927978516, 21.895957946777344, 21.816940307617188, 21.73879051208496, 21.66153335571289, 21.585142135620117, 21.509607315063477, 21.43492889404297, 21.36109161376953, 21.288084030151367, 21.215890884399414, 21.144521713256836, 21.073949813842773, 21.004175186157227, 20.93519401550293, 20.866975784301758, 20.79953384399414, 20.73285484313965, 20.666927337646484, 20.601730346679688, 20.537273406982422, 20.47354507446289, 20.410531997680664, 20.348236083984375, 20.286630630493164, 20.22572135925293, 20.165498733520508, 20.10595703125, 20.047090530395508, 19.9888858795166, 19.93132781982422, 19.874420166015625, 19.818153381347656, 19.762523651123047, 19.707521438598633, 19.653141021728516, 19.5993709564209, 19.546194076538086, 19.493637084960938, 19.441659927368164, 19.390262603759766, 19.33945083618164, 19.28921890258789, 19.23954963684082, 19.190433502197266, 19.14187240600586, 19.093852996826172, 19.046382904052734, 18.99944305419922, 18.953035354614258, 18.907146453857422, 18.861783981323242, 18.816913604736328, 18.772565841674805, 18.728710174560547, 18.685344696044922, 18.642478942871094, 18.600093841552734, 18.558176040649414, 18.51673126220703, 18.475757598876953, 18.43524742126465, 18.39519691467285, 18.355587005615234, 18.316438674926758, 18.277729034423828, 18.23943519592285, 18.20158576965332, 18.16416358947754, 18.127155303955078, 18.09058380126953, 18.054397583007812, 18.018640518188477, 17.983272552490234, 17.94831085205078, 17.913734436035156, 17.879558563232422, 17.845760345458984, 17.81234359741211, 17.779300689697266, 17.746639251708984, 17.714336395263672, 17.682392120361328, 17.650827407836914, 17.619617462158203, 17.58873748779297, 17.558216094970703, 17.528039932250977, 17.498197555541992, 17.468698501586914, 17.439533233642578, 17.41069221496582, 17.382171630859375, 17.353971481323242, 17.32609748840332, 17.29853630065918, 17.271284103393555, 17.244335174560547, 17.217689514160156, 17.191356658935547, 17.165298461914062, 17.139558792114258, 17.114091873168945, 17.088918685913086, 17.064029693603516, 17.039409637451172, 17.01507568359375, 16.991012573242188, 16.967222213745117, 16.943702697753906, 16.920446395874023, 16.89745330810547, 16.87472152709961, 16.85224723815918, 16.830013275146484, 16.808040618896484, 16.786312103271484, 16.764827728271484, 16.743587493896484, 16.722583770751953, 16.701810836791992, 16.681283950805664, 16.660980224609375, 16.640905380249023, 16.621057510375977, 16.601444244384766, 16.582042694091797, 16.562868118286133, 16.54388999938965, 16.5251407623291, 16.506595611572266, 16.488262176513672, 16.470129013061523, 16.452213287353516, 16.434490203857422, 16.416969299316406, 16.399648666381836, 16.382524490356445, 16.365585327148438, 16.34882926940918, 16.332279205322266, 16.315908432006836, 16.299724578857422, 16.283723831176758, 16.267898559570312, 16.25225257873535, 16.236772537231445, 16.221492767333984, 16.206371307373047, 16.191415786743164, 16.176618576049805, 16.162015914916992, 16.147560119628906, 16.13326644897461, 16.119144439697266, 16.10517120361328, 16.091358184814453, 16.07769775390625, 16.0642032623291, 16.050851821899414, 16.037641525268555, 16.02459716796875, 16.01168441772461, 15.998936653137207, 15.98631763458252, 15.973844528198242, 15.961506843566895, 15.949315071105957, 15.937261581420898, 15.925336837768555, 15.913549423217773, 15.901896476745605, 15.890375137329102, 15.878979682922363, 15.867715835571289, 15.856573104858398, 15.845563888549805, 15.834672927856445, 15.823908805847168, 15.813273429870605, 15.80273723602295, 15.792330741882324, 15.7820463180542, 15.771870613098145, 15.761812210083008, 15.751869201660156, 15.742039680480957, 15.732312202453613, 15.72270393371582, 15.71319580078125, 15.7037935256958, 15.694509506225586, 15.685323715209961, 15.676241874694824, 15.667253494262695, 15.658370971679688, 15.649591445922852, 15.640914916992188, 15.63232707977295, 15.6238431930542, 15.615452766418457, 15.607152938842773, 15.59894847869873, 15.590843200683594, 15.582815170288086, 15.574892044067383, 15.567047119140625, 15.559301376342773, 15.5516357421875, 15.544049263000488, 15.536561965942383, 15.529156684875488, 15.521824836730957, 15.51458740234375, 15.507431030273438, 15.500348091125488, 15.493341445922852, 15.486419677734375, 15.479574203491211, 15.472806930541992, 15.466119766235352, 15.459507942199707, 15.452970504760742, 15.446497917175293, 15.440101623535156, 15.43378734588623, 15.427536010742188, 15.421354293823242, 15.415245056152344, 15.409207344055176, 15.403223037719727, 15.397320747375488, 15.391474723815918, 15.385711669921875, 15.38000202178955, 15.374354362487793, 15.368768692016602, 15.363255500793457, 15.357792854309082, 15.35240650177002, 15.347071647644043, 15.341796875, 15.336568832397461, 15.33142375946045, 15.326324462890625, 15.321281433105469, 15.316301345825195, 15.311376571655273, 15.306500434875488, 15.301687240600586, 15.296923637390137, 15.292213439941406, 15.287557601928711, 15.282958984375, 15.278402328491211, 15.273895263671875, 15.269460678100586, 15.265049934387207, 15.260699272155762, 15.256399154663086, 15.252143859863281, 15.247937202453613, 15.24377727508545, 15.239675521850586, 15.235610961914062, 15.231593132019043, 15.227618217468262, 15.223684310913086, 15.219804763793945, 15.215962409973145, 15.212167739868164, 15.208414077758789, 15.20469856262207, 15.201031684875488, 15.197392463684082, 15.193806648254395, 15.190264701843262, 15.186755180358887, 15.183283805847168, 15.179852485656738, 15.17646312713623, 15.173110961914062, 15.169797897338867, 15.16650676727295, 15.16327953338623, 15.160074234008789, 15.156906127929688, 15.153776168823242, 15.150671005249023, 15.147615432739258, 15.144586563110352, 15.141595840454102, 15.138630867004395, 15.135708808898926, 15.132817268371582, 15.129948616027832, 15.127120971679688, 15.1243314743042, 15.121562004089355, 15.118830680847168, 15.116127014160156, 15.113449096679688, 15.110809326171875, 15.108190536499023, 15.105608940124512, 15.103055000305176, 15.100534439086914, 15.098030090332031, 15.095565795898438, 15.093118667602539, 15.090710639953613, 15.088315963745117, 15.085962295532227, 15.08363151550293, 15.081318855285645, 15.079038619995117, 15.0767822265625, 15.074551582336426, 15.072346687316895, 15.070170402526855, 15.068016052246094, 15.065879821777344, 15.063772201538086, 15.06169319152832, 15.0596284866333, 15.057589530944824, 15.055582046508789]}\n"
          ]
        }
      ],
      "source": [
        "print(x.history)"
      ]
    },
    {
      "cell_type": "code",
      "execution_count": 13,
      "metadata": {
        "colab": {
          "base_uri": "https://localhost:8080/",
          "height": 447
        },
        "id": "D9246LROMD9h",
        "outputId": "ab8ffeaf-e237-46d4-a8bb-d8ff54d95696"
      },
      "outputs": [
        {
          "output_type": "execute_result",
          "data": {
            "text/plain": [
              "<Axes: >"
            ]
          },
          "metadata": {},
          "execution_count": 13
        },
        {
          "output_type": "display_data",
          "data": {
            "text/plain": [
              "<Figure size 640x480 with 1 Axes>"
            ],
            "image/png": "[encoded data removed]"
          },
          "metadata": {}
        }
      ],
      "source": [
        "import seaborn as sns\n",
        "sns.lineplot(data=x.history['loss'])"
      ]
    },
    {
      "cell_type": "code",
      "execution_count": 15,
      "metadata": {
        "colab": {
          "base_uri": "https://localhost:8080/"
        },
        "id": "QWlk_fE8MD9h",
        "outputId": "a2d4aecb-570a-4580-ef44-ed0cf002f190"
      },
      "outputs": [
        {
          "output_type": "stream",
          "name": "stdout",
          "text": [
            "\u001b[1m1/1\u001b[0m \u001b[32m━━━━━━━━━━━━━━━━━━━━\u001b[0m\u001b[37m\u001b[0m \u001b[1m0s\u001b[0m 99ms/step\n",
            "[[66.128784]]\n"
          ]
        }
      ],
      "source": [
        "import numpy as np\n",
        "\n",
        "# Ensure input is in the right format\n",
        "prediction_input = np.array([10])\n",
        "prediction_output = model.predict(prediction_input)\n",
        "\n",
        "print(prediction_output)\n"
      ]
    },
    {
      "cell_type": "markdown",
      "metadata": {
        "id": "btF2CSFH2iEX"
      },
      "source": [
        "You might have thought 65, right? But it ended up being a little over. Why do you think that is?\n",
        "\n",
        "Remember that neural networks deal with probabilities, so given the data that we fed the NN with, it calculated that there is a very high probability that the relationship between X and Y is Y = 5.12 * x + 14.45, but with only 10 data points we can't know for sure. As a result, the result for 10 is very close to 65, but not necessarily 65.\n",
        "\n",
        "As you work with neural networks, you'll see this pattern recurring. You will almost always deal with probabilities, not certainties, and will do a little bit of coding to figure out what the result is based on the probabilities, particularly when it comes to classification.\n"
      ]
    }
  ],
  "metadata": {
    "colab": {
      "provenance": [],
      "machine_shape": "hm",
      "gpuType": "A100",
      "include_colab_link": true
    },
    "kernelspec": {
      "display_name": "Python 3",
      "name": "python3"
    },
    "language_info": {
      "codemirror_mode": {
        "name": "ipython",
        "version": 3
      },
      "file_extension": ".py",
      "mimetype": "text/x-python",
      "name": "python",
      "nbconvert_exporter": "python",
      "pygments_lexer": "ipython3",
      "version": "3.10.11"
    },
    "accelerator": "GPU"
  },
  "nbformat": 4,
  "nbformat_minor": 0
}